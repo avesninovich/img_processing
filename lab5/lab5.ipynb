{
 "cells": [
  {
   "cell_type": "code",
   "execution_count": 23,
   "metadata": {},
   "outputs": [],
   "source": [
    "import cv2"
   ]
  },
  {
   "cell_type": "markdown",
   "metadata": {},
   "source": [
    "Импорт и просмотр изображения (в отдельном окне)"
   ]
  },
  {
   "cell_type": "code",
   "execution_count": 21,
   "metadata": {},
   "outputs": [],
   "source": [
    "def disp(img, name = 'Image'):\n",
    "    cv2.imshow(name, img)\n",
    "    cv2.waitKey()  # 0 передавать в аргументы не обязательно\n",
    "    cv2.destroyAllWindows()"
   ]
  },
  {
   "cell_type": "code",
   "execution_count": 3,
   "metadata": {},
   "outputs": [],
   "source": [
    "img = cv2.imread('monastery_wall.jpg')"
   ]
  },
  {
   "cell_type": "code",
   "execution_count": 22,
   "metadata": {},
   "outputs": [],
   "source": [
    "disp(img, 'Source')"
   ]
  },
  {
   "cell_type": "markdown",
   "metadata": {},
   "source": [
    "Кадрирование"
   ]
  },
  {
   "cell_type": "code",
   "execution_count": 5,
   "metadata": {},
   "outputs": [],
   "source": [
    "cropped = img[300:700, 300:]\n",
    "disp(cropped, 'Cropped')"
   ]
  },
  {
   "cell_type": "markdown",
   "metadata": {},
   "source": [
    "Изменение размера"
   ]
  },
  {
   "cell_type": "code",
   "execution_count": 6,
   "metadata": {},
   "outputs": [],
   "source": [
    "scale = .5\n",
    "w = int(img.shape[1] * scale)\n",
    "h = int(img.shape[0] * scale)\n",
    "resized = cv2.resize(img, (w, h), interpolation = cv2.INTER_AREA)\n",
    "disp(resized, 'Resized')"
   ]
  },
  {
   "cell_type": "markdown",
   "metadata": {},
   "source": [
    "Поворот"
   ]
  },
  {
   "cell_type": "code",
   "execution_count": 7,
   "metadata": {},
   "outputs": [],
   "source": [
    "h, w, _ = img.shape\n",
    "center = (w // 2, h // 2)\n",
    "M = cv2.getRotationMatrix2D(center, 180, 1.)\n",
    "rotated = cv2.warpAffine(img, M, (w, h))\n",
    "disp(rotated, 'Rotated')"
   ]
  },
  {
   "cell_type": "markdown",
   "metadata": {},
   "source": [
    "Перевод в градации серого и в чёрно-белое изображение по порогу"
   ]
  },
  {
   "cell_type": "code",
   "execution_count": 8,
   "metadata": {},
   "outputs": [],
   "source": [
    "greyed = cv2.cvtColor(img, cv2.COLOR_BGR2GRAY)\n",
    "_, blacked = cv2.threshold(greyed, 127, 255, cv2.THRESH_BINARY)\n",
    "disp(greyed, 'Greyed')\n",
    "disp(blacked, 'Blacked')"
   ]
  },
  {
   "cell_type": "markdown",
   "metadata": {},
   "source": [
    "Размытие/сглаживание"
   ]
  },
  {
   "cell_type": "code",
   "execution_count": 9,
   "metadata": {},
   "outputs": [],
   "source": [
    "blurred = cv2.GaussianBlur(img, (21, 21), 1)\n",
    "disp(blurred, 'Blurred')"
   ]
  },
  {
   "cell_type": "markdown",
   "metadata": {},
   "source": [
    "Рисование прямоугольников"
   ]
  },
  {
   "cell_type": "code",
   "execution_count": 10,
   "metadata": {},
   "outputs": [],
   "source": [
    "rected = img.copy()\n",
    "cv2.rectangle(rected, (675, 333), (880, 700), (0, 255, 255), 3)\n",
    "disp(rected, 'Rectangle over closest tower')"
   ]
  },
  {
   "cell_type": "markdown",
   "metadata": {},
   "source": [
    "Рисование линий"
   ]
  },
  {
   "cell_type": "code",
   "execution_count": 11,
   "metadata": {},
   "outputs": [],
   "source": [
    "lined = img.copy()\n",
    "cv2.line(lined, (350, 500), (350, 700), (255, 0, 0), 2)\n",
    "disp(lined, 'Line between village and monastery wall')"
   ]
  },
  {
   "cell_type": "markdown",
   "metadata": {},
   "source": [
    "Текст на изображении"
   ]
  },
  {
   "cell_type": "code",
   "execution_count": 12,
   "metadata": {},
   "outputs": [],
   "source": [
    "texted = img.copy()\n",
    "# Функция поддерживает только ASCII\n",
    "cv2.putText(texted, 'Wall of the Monastery of Saint Euthymius in Suzdal, 1912', (100, 100),\n",
    "            cv2.FONT_HERSHEY_COMPLEX, 1, (0, 0, 0))\n",
    "disp(texted, 'Image with text')"
   ]
  },
  {
   "cell_type": "markdown",
   "metadata": {},
   "source": [
    "Распознавание лиц"
   ]
  },
  {
   "cell_type": "code",
   "execution_count": 13,
   "metadata": {},
   "outputs": [],
   "source": [
    "face_cascade = cv2.CascadeClassifier('haarcascade_frontalface_default.xml')"
   ]
  },
  {
   "cell_type": "code",
   "execution_count": 14,
   "metadata": {},
   "outputs": [
    {
     "name": "stdout",
     "output_type": "stream",
     "text": [
      "Найдено лиц: 3\n"
     ]
    }
   ],
   "source": [
    "img_faces = cv2.imread('girls.jpg')\n",
    "\n",
    "grey = cv2.cvtColor(img_faces, cv2.COLOR_BGR2GRAY)\n",
    "\n",
    "faces = face_cascade.detectMultiScale(grey, scaleFactor = 1.1, minNeighbors = 5, minSize = (10, 10))\n",
    "print(f'Найдено лиц: {len(faces)}')\n",
    "\n",
    "for x, y, w, h in faces:\n",
    "    cv2.rectangle(img_faces, (x, y), (x + w, y + h), (0, 255, 0), 2)\n",
    "\n",
    "disp(img_faces, f'Image with {len(faces)} faces found')"
   ]
  },
  {
   "cell_type": "markdown",
   "metadata": {},
   "source": [
    "Сохранение изображения"
   ]
  },
  {
   "cell_type": "code",
   "execution_count": 15,
   "metadata": {},
   "outputs": [
    {
     "data": {
      "text/plain": [
       "True"
      ]
     },
     "execution_count": 15,
     "metadata": {},
     "output_type": "execute_result"
    }
   ],
   "source": [
    "cv2.imwrite('girls_with_faces_detected.jpg', img_faces)"
   ]
  }
 ],
 "metadata": {
  "kernelspec": {
   "display_name": "Python 3",
   "language": "python",
   "name": "python3"
  },
  "language_info": {
   "codemirror_mode": {
    "name": "ipython",
    "version": 3
   },
   "file_extension": ".py",
   "mimetype": "text/x-python",
   "name": "python",
   "nbconvert_exporter": "python",
   "pygments_lexer": "ipython3",
   "version": "3.7.3"
  }
 },
 "nbformat": 4,
 "nbformat_minor": 2
}
